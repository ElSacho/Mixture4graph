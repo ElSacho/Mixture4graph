{
 "cells": [
  {
   "cell_type": "code",
   "execution_count": 22,
   "metadata": {},
   "outputs": [],
   "source": [
    "import numpy as np\n",
    "import networkx as nx\n",
    "import generator\n",
    "\n",
    "def calculate_distance_matrix(G):\n",
    "    A= nx.adjacency_matrix(G).toarray()\n",
    "    n_vertices=G.number_of_nodes()\n",
    "    distance_matrix = np.zeros((n_vertices, n_vertices))\n",
    "\n",
    "\n",
    "    for i in range(n_vertices):\n",
    "        for j in range(i + 1, n_vertices):\n",
    "            A_copy=A.copy()\n",
    "            euclidean_matrix = (A_copy - A_copy[i,j])**2\n",
    "            distance_matrix[i, j] = distance_matrix[j, i] = np.sqrt(euclidean_matrix.sum(axis=1)-A_copy[i,j]**2)[i]\n",
    "    \n",
    "    return distance_matrix\n",
    "\n",
    "def find_closest_clusters(distance_matrix):\n",
    "    np.fill_diagonal(distance_matrix, np.inf)\n",
    "    return np.unravel_index(np.argmin(distance_matrix, axis=None), distance_matrix.shape)\n",
    "\n",
    "def hierarchical_clustering(G, n_clusters):\n",
    "    n_vertices=G.number_of_nodes()\n",
    "    clusters = [[i] for i in range(n_vertices)]\n",
    "    distance_matrix = calculate_distance_matrix(G)\n",
    "\n",
    "    while len(clusters) > n_clusters:\n",
    "        i, j = find_closest_clusters(distance_matrix)\n",
    "\n",
    "        new_cluster = clusters[i] + clusters[j]\n",
    "        clusters.append(new_cluster)\n",
    "\n",
    "        clusters.pop(max(i, j))\n",
    "        clusters.pop(min(i, j))\n",
    "\n",
    "        new_distances = []\n",
    "        for k in range(len(distance_matrix)):\n",
    "            if k != i and k != j:\n",
    "                new_dist = min(distance_matrix[k, i], distance_matrix[k, j])\n",
    "                new_distances.append(new_dist)\n",
    "        new_distances.append(0.0)  \n",
    "\n",
    "        distance_matrix = np.delete(distance_matrix, [max(i, j), min(i, j)], axis=0)\n",
    "        distance_matrix = np.delete(distance_matrix, [max(i, j), min(i, j)], axis=1)\n",
    "        new_distances = np.array(new_distances)\n",
    "        distance_matrix = np.vstack((distance_matrix, new_distances[:-1]))\n",
    "        distance_matrix = np.column_stack((distance_matrix, new_distances))\n",
    "\n",
    "    return clusters\n",
    "\n",
    "# Example usage\n",
    "\n"
   ]
  },
  {
   "cell_type": "code",
   "execution_count": 24,
   "metadata": {},
   "outputs": [
    {
     "name": "stdout",
     "output_type": "stream",
     "text": [
      "97\n",
      "[[0], [1], [19], [16, 8, 6, 2, 4, 17, 9, 7, 3, 5, 18, 10, 13, 11, 14, 12, 15]]\n"
     ]
    },
    {
     "name": "stderr",
     "output_type": "stream",
     "text": [
      "/var/folders/kk/m7r241y560174wvw5cvj2dfm0000gn/T/ipykernel_50443/1223222977.py:6: FutureWarning: adjacency_matrix will return a scipy.sparse array instead of a matrix in Networkx 3.0.\n",
      "  A= nx.adjacency_matrix(G).toarray()\n"
     ]
    }
   ],
   "source": [
    "pi = np.array([[0.1,1,0.1,0.1],[1,0.1,1,0.1],[0.1,1,0.1,1],[0.1,0.1,1,0.1]])\n",
    "priors = np.array([0.1, 0.4, 0.4, 0.1])\n",
    "G=generator.generate(20, pi, priors)\n",
    "\n",
    "print(G.number_of_edges())\n",
    "clusters=hierarchical_clustering(G,4)\n",
    "print(clusters)"
   ]
  }
 ],
 "metadata": {
  "kernelspec": {
   "display_name": "base",
   "language": "python",
   "name": "python3"
  },
  "language_info": {
   "codemirror_mode": {
    "name": "ipython",
    "version": 3
   },
   "file_extension": ".py",
   "mimetype": "text/x-python",
   "name": "python",
   "nbconvert_exporter": "python",
   "pygments_lexer": "ipython3",
   "version": "3.9.12"
  }
 },
 "nbformat": 4,
 "nbformat_minor": 2
}
