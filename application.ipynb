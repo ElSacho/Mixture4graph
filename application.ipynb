{
 "cells": [
  {
   "cell_type": "code",
   "execution_count": 1,
   "metadata": {},
   "outputs": [],
   "source": [
    "import networkx as nx\n",
    "import matplotlib.pyplot as plt\n",
    "import numpy as np\n",
    "\n",
    "from vizualize_data import dataset\n",
    "\n",
    "from EM_torch import mixtureModel"
   ]
  },
  {
   "cell_type": "code",
   "execution_count": 3,
   "metadata": {},
   "outputs": [
    {
     "name": "stdout",
     "output_type": "stream",
     "text": [
      "Fit finished for  2  clusters \n"
     ]
    }
   ],
   "source": [
    "# data = dataset(\"data/congress_network/congress_new_edgelist.txt\")\n",
    "\n",
    "# data.print_generalitize()\n",
    "# data.plot_figure_graph()\n",
    "graph = nx.read_gml(\"data/political_portrait/political_extraction.gml\")\n",
    "model = mixtureModel(graph, initilisation_method=\"spectral\")\n",
    "tab_clusters = [2]\n",
    "model.fit(tab_clusters)"
   ]
  },
  {
   "cell_type": "code",
   "execution_count": 5,
   "metadata": {},
   "outputs": [],
   "source": [
    "# model = mixtureModel(data.get_connected_component(), initilisation_method=\"spectral\")\n",
    "# tab_clusters = [2,3,4,5]\n",
    "# model.fit(tab_clusters)\n",
    "model.plot_adjency_matrix(2, show_names=True)"
   ]
  },
  {
   "cell_type": "code",
   "execution_count": 11,
   "metadata": {},
   "outputs": [
    {
     "name": "stdout",
     "output_type": "stream",
     "text": [
      "{}\n"
     ]
    }
   ],
   "source": [
    "model.plot_jrx()\n",
    "model.plot_icl()"
   ]
  },
  {
   "cell_type": "code",
   "execution_count": null,
   "metadata": {},
   "outputs": [],
   "source": [
    "model.plot_adjency_matrix(2)\n",
    "model.plot_adjency_matrix(3)\n",
    "model.plot_adjency_matrix(4)\n",
    "model.plot_adjency_matrix(5)"
   ]
  }
 ],
 "metadata": {
  "kernelspec": {
   "display_name": "Python 3",
   "language": "python",
   "name": "python3"
  },
  "language_info": {
   "codemirror_mode": {
    "name": "ipython",
    "version": 3
   },
   "file_extension": ".py",
   "mimetype": "text/x-python",
   "name": "python",
   "nbconvert_exporter": "python",
   "pygments_lexer": "ipython3",
   "version": "3.9.5"
  }
 },
 "nbformat": 4,
 "nbformat_minor": 2
}
