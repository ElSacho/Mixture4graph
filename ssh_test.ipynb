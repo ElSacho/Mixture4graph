{
 "cells": [
  {
   "cell_type": "code",
   "execution_count": 1,
   "metadata": {},
   "outputs": [],
   "source": [
    "import numpy as np\n",
    "import matplotlib.pyplot as plt\n",
    "\n",
    "from utils import show_graph, show_multiple_graph, plot_JRX, show_graph_cluster_color\n",
    "from generator import generate, generate_and_give_tau\n",
    "\n",
    "from EM_torch import mixtureModel\n",
    "\n",
    "from EM_torch import get_X_from_graph, main, return_priors_pi, ICL\n",
    "np.set_printoptions(precision=4, suppress=True)"
   ]
  },
  {
   "cell_type": "code",
   "execution_count": 2,
   "metadata": {},
   "outputs": [
    {
     "ename": "TypeError",
     "evalue": "expected np.ndarray (got Tensor)",
     "output_type": "error",
     "traceback": [
      "\u001b[0;31m---------------------------------------------------------------------------\u001b[0m",
      "\u001b[0;31mTypeError\u001b[0m                                 Traceback (most recent call last)",
      "\u001b[1;32m/Users/potosacho/Desktop/MVA/P1/Probabilistic Graphical Models and Deep Generative Models/Mixture4graph/ssh_test.ipynb Cell 2\u001b[0m line \u001b[0;36m<cell line: 12>\u001b[0;34m()\u001b[0m\n\u001b[1;32m     <a href='vscode-notebook-cell:/Users/potosacho/Desktop/MVA/P1/Probabilistic%20Graphical%20Models%20and%20Deep%20Generative%20Models/Mixture4graph/ssh_test.ipynb#W1sZmlsZQ%3D%3D?line=9'>10</a>\u001b[0m model \u001b[39m=\u001b[39m mixtureModel(graph, initilisation_method\u001b[39m=\u001b[39m\u001b[39m'\u001b[39m\u001b[39mspectral\u001b[39m\u001b[39m'\u001b[39m)\n\u001b[1;32m     <a href='vscode-notebook-cell:/Users/potosacho/Desktop/MVA/P1/Probabilistic%20Graphical%20Models%20and%20Deep%20Generative%20Models/Mixture4graph/ssh_test.ipynb#W1sZmlsZQ%3D%3D?line=10'>11</a>\u001b[0m tab_clusters \u001b[39m=\u001b[39m [\u001b[39m2\u001b[39m,\u001b[39m3\u001b[39m,\u001b[39m4\u001b[39m,\u001b[39m5\u001b[39m]\n\u001b[0;32m---> <a href='vscode-notebook-cell:/Users/potosacho/Desktop/MVA/P1/Probabilistic%20Graphical%20Models%20and%20Deep%20Generative%20Models/Mixture4graph/ssh_test.ipynb#W1sZmlsZQ%3D%3D?line=11'>12</a>\u001b[0m model\u001b[39m.\u001b[39;49mfit(tab_clusters)\n\u001b[1;32m     <a href='vscode-notebook-cell:/Users/potosacho/Desktop/MVA/P1/Probabilistic%20Graphical%20Models%20and%20Deep%20Generative%20Models/Mixture4graph/ssh_test.ipynb#W1sZmlsZQ%3D%3D?line=13'>14</a>\u001b[0m model\u001b[39m.\u001b[39mplot_jrx()\n\u001b[1;32m     <a href='vscode-notebook-cell:/Users/potosacho/Desktop/MVA/P1/Probabilistic%20Graphical%20Models%20and%20Deep%20Generative%20Models/Mixture4graph/ssh_test.ipynb#W1sZmlsZQ%3D%3D?line=14'>15</a>\u001b[0m model\u001b[39m.\u001b[39mplot_icl()\n",
      "File \u001b[0;32m~/Desktop/MVA/P1/Probabilistic Graphical Models and Deep Generative Models/Mixture4graph/EM_torch.py:263\u001b[0m, in \u001b[0;36mmixtureModel.fit\u001b[0;34m(self, tab_n_clusters, n_clusters, max_iter, initilisation_method)\u001b[0m\n\u001b[1;32m    261\u001b[0m \u001b[39mif\u001b[39;00m n_clusters \u001b[39m==\u001b[39m \u001b[39mNone\u001b[39;00m:\n\u001b[1;32m    262\u001b[0m     \u001b[39mfor\u001b[39;00m n_cluster \u001b[39min\u001b[39;00m tab_n_clusters:\n\u001b[0;32m--> 263\u001b[0m         \u001b[39mself\u001b[39;49m\u001b[39m.\u001b[39;49mEM(n_cluster, max_iter, initilisation_method)\n\u001b[1;32m    264\u001b[0m         \u001b[39mprint\u001b[39m(\u001b[39m'\u001b[39m\u001b[39mFit finished for \u001b[39m\u001b[39m'\u001b[39m, n_cluster, \u001b[39m'\u001b[39m\u001b[39m clusters \u001b[39m\u001b[39m'\u001b[39m)\n\u001b[1;32m    265\u001b[0m \u001b[39melse\u001b[39;00m :\n",
      "File \u001b[0;32m~/Desktop/MVA/P1/Probabilistic Graphical Models and Deep Generative Models/Mixture4graph/EM_torch.py:251\u001b[0m, in \u001b[0;36mmixtureModel.EM\u001b[0;34m(self, n_clusters, max_iter, initilisation_method)\u001b[0m\n\u001b[1;32m    249\u001b[0m \u001b[39mif\u001b[39;00m initilisation_method \u001b[39m==\u001b[39m \u001b[39mNone\u001b[39;00m:\n\u001b[1;32m    250\u001b[0m     initilisation_method \u001b[39m=\u001b[39m \u001b[39mself\u001b[39m\u001b[39m.\u001b[39minitilisation_method\n\u001b[0;32m--> 251\u001b[0m priors, pi, tau, tab_jrx \u001b[39m=\u001b[39m main(\u001b[39mself\u001b[39;49m\u001b[39m.\u001b[39;49mgraph_edges, n_clusters, max_iter \u001b[39m=\u001b[39;49m max_iter, method \u001b[39m=\u001b[39;49m initilisation_method)\n\u001b[1;32m    252\u001b[0m ICL_clusters \u001b[39m=\u001b[39m ICL(\u001b[39mself\u001b[39m\u001b[39m.\u001b[39mgraph_edges, tau, pi, priors)\n\u001b[1;32m    253\u001b[0m result \u001b[39m=\u001b[39m {\u001b[39m'\u001b[39m\u001b[39mpi\u001b[39m\u001b[39m'\u001b[39m: pi\u001b[39m.\u001b[39mto(\u001b[39m'\u001b[39m\u001b[39mcpu\u001b[39m\u001b[39m'\u001b[39m)\u001b[39m.\u001b[39mnumpy(), \u001b[39m'\u001b[39m\u001b[39mtau\u001b[39m\u001b[39m'\u001b[39m : tau\u001b[39m.\u001b[39mto(\u001b[39m'\u001b[39m\u001b[39mcpu\u001b[39m\u001b[39m'\u001b[39m)\u001b[39m.\u001b[39mnumpy(), \u001b[39m'\u001b[39m\u001b[39mjrx\u001b[39m\u001b[39m'\u001b[39m : tab_jrx, \u001b[39m'\u001b[39m\u001b[39mpriors\u001b[39m\u001b[39m'\u001b[39m : priors\u001b[39m.\u001b[39mto(\u001b[39m'\u001b[39m\u001b[39mcpu\u001b[39m\u001b[39m'\u001b[39m)\u001b[39m.\u001b[39mnumpy(), \u001b[39m'\u001b[39m\u001b[39mICL\u001b[39m\u001b[39m'\u001b[39m : ICL_clusters, \u001b[39m'\u001b[39m\u001b[39mmax_iter\u001b[39m\u001b[39m'\u001b[39m : max_iter, \u001b[39m'\u001b[39m\u001b[39minitialisation\u001b[39m\u001b[39m'\u001b[39m : initilisation_method, \u001b[39m'\u001b[39m\u001b[39mn_clusters\u001b[39m\u001b[39m'\u001b[39m : n_clusters}\n",
      "File \u001b[0;32m~/Desktop/MVA/P1/Probabilistic Graphical Models and Deep Generative Models/Mixture4graph/EM_torch.py:206\u001b[0m, in \u001b[0;36mmain\u001b[0;34m(graph_edges, n_clusters, max_iter, method)\u001b[0m\n\u001b[1;32m    204\u001b[0m \u001b[39m# Move 'tau' and 'X' tensors to the target device\u001b[39;00m\n\u001b[1;32m    205\u001b[0m tau \u001b[39m=\u001b[39m torch\u001b[39m.\u001b[39mfrom_numpy(tau)\u001b[39m.\u001b[39mto(device)\n\u001b[0;32m--> 206\u001b[0m graph_edges \u001b[39m=\u001b[39m torch\u001b[39m.\u001b[39;49mfrom_numpy(graph_edges)\u001b[39m.\u001b[39mto(device)\n\u001b[1;32m    208\u001b[0m \u001b[39mwhile\u001b[39;00m current_iter \u001b[39m<\u001b[39m max_iter \u001b[39mand\u001b[39;00m \u001b[39mnot\u001b[39;00m finished:\n\u001b[1;32m    209\u001b[0m     priors, pi \u001b[39m=\u001b[39m return_priors_pi(graph_edges, tau)\n",
      "\u001b[0;31mTypeError\u001b[0m: expected np.ndarray (got Tensor)"
     ]
    }
   ],
   "source": [
    "np.random.seed(2)\n",
    "n_vertices = 50\n",
    "pi = np.array([[1,0.1],[0.1,1]])\n",
    "priors = np.array([0.2,0.8])\n",
    "n_clusters = len(priors)\n",
    "max_iter = 50\n",
    "\n",
    "graph, tau = generate_and_give_tau(n_vertices, pi , priors)\n",
    "\n",
    "model = mixtureModel(graph, initilisation_method='spectral')\n",
    "tab_clusters = [2,3,4,5]\n",
    "model.fit(tab_clusters)\n",
    "\n",
    "model.plot_jrx()\n",
    "model.plot_icl()\n",
    "model.plot_adjency_matrix(2)\n",
    "show_graph_cluster_color(graph, model.results[2]['tau'])"
   ]
  },
  {
   "cell_type": "code",
   "execution_count": null,
   "metadata": {},
   "outputs": [],
   "source": [
    "# jupyter nbconvert --to notebook --execute ssh_test.ipynb"
   ]
  },
  {
   "cell_type": "code",
   "execution_count": 3,
   "metadata": {},
   "outputs": [
    {
     "name": "stdout",
     "output_type": "stream",
     "text": [
      "[[1. 0.]\n",
      " [0. 1.]\n",
      " [1. 0.]\n",
      " [1. 0.]\n",
      " [1. 0.]\n",
      " [1. 0.]\n",
      " [1. 0.]\n",
      " [1. 0.]\n",
      " [1. 0.]\n",
      " [1. 0.]\n",
      " [1. 0.]\n",
      " [1. 0.]\n",
      " [0. 1.]\n",
      " [1. 0.]\n",
      " [0. 1.]\n",
      " [1. 0.]\n",
      " [1. 0.]\n",
      " [1. 0.]\n",
      " [1. 0.]\n",
      " [0. 1.]\n",
      " [1. 0.]\n",
      " [0. 1.]\n",
      " [1. 0.]\n",
      " [0. 1.]\n",
      " [0. 1.]\n",
      " [1. 0.]\n",
      " [1. 0.]\n",
      " [0. 1.]\n",
      " [1. 0.]\n",
      " [1. 0.]\n",
      " [1. 0.]\n",
      " [1. 0.]\n",
      " [1. 0.]\n",
      " [1. 0.]\n",
      " [1. 0.]\n",
      " [1. 0.]\n",
      " [1. 0.]\n",
      " [1. 0.]\n",
      " [0. 1.]\n",
      " [1. 0.]\n",
      " [1. 0.]\n",
      " [1. 0.]\n",
      " [1. 0.]\n",
      " [1. 0.]\n",
      " [1. 0.]\n",
      " [1. 0.]\n",
      " [1. 0.]\n",
      " [1. 0.]\n",
      " [1. 0.]\n",
      " [1. 0.]]\n"
     ]
    }
   ],
   "source": [
    "import pickle\n",
    "\n",
    "# Charger le dictionnaire depuis le fichier\n",
    "\n"
   ]
  },
  {
   "cell_type": "code",
   "execution_count": null,
   "metadata": {},
   "outputs": [],
   "source": []
  }
 ],
 "metadata": {
  "kernelspec": {
   "display_name": "Python 3",
   "language": "python",
   "name": "python3"
  },
  "language_info": {
   "codemirror_mode": {
    "name": "ipython",
    "version": 3
   },
   "file_extension": ".py",
   "mimetype": "text/x-python",
   "name": "python",
   "nbconvert_exporter": "python",
   "pygments_lexer": "ipython3",
   "version": "3.9.5"
  }
 },
 "nbformat": 4,
 "nbformat_minor": 2
}
