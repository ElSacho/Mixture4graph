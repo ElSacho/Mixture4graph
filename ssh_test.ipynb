{
 "cells": [
  {
   "cell_type": "code",
   "execution_count": null,
   "metadata": {},
   "outputs": [],
   "source": [
    "import numpy as np\n",
    "import matplotlib.pyplot as plt\n",
    "\n",
    "from utils import show_graph, show_multiple_graph, plot_JRX, show_graph_cluster_color\n",
    "from generator import generate, generate_and_give_tau\n",
    "\n",
    "from EM import mixtureModel\n",
    "\n",
    "from EM import get_X_from_graph, main, return_priors_pi, ICL\n",
    "np.set_printoptions(precision=4, suppress=True)"
   ]
  },
  {
   "cell_type": "code",
   "execution_count": null,
   "metadata": {},
   "outputs": [],
   "source": [
    "np.random.seed(2)\n",
    "n_vertices = 50\n",
    "pi = np.array([[1,0.1],[0.1,1]])\n",
    "priors = np.array([0.2,0.8])\n",
    "n_clusters = len(priors)\n",
    "max_iter = 50\n",
    "\n",
    "graph, tau = generate_and_give_tau(n_vertices, pi , priors)\n",
    "\n",
    "model = mixtureModel(graph, initilisation_method='spectral')\n",
    "tab_clusters = [2,3,4,5]\n",
    "model.fit(tab_clusters)\n",
    "\n",
    "model.plot_jrx()\n",
    "model.plot_icl()\n",
    "model.plot_adjency_matrix(2)\n",
    "show_graph_cluster_color(graph, model.results[2]['tau'])"
   ]
  },
  {
   "cell_type": "code",
   "execution_count": null,
   "metadata": {},
   "outputs": [],
   "source": [
    "# jupyter nbconvert --to notebook --execute ssh_test.ipynb"
   ]
  }
 ],
 "metadata": {
  "kernelspec": {
   "display_name": "Python 3",
   "language": "python",
   "name": "python3"
  },
  "language_info": {
   "codemirror_mode": {
    "name": "ipython",
    "version": 3
   },
   "file_extension": ".py",
   "mimetype": "text/x-python",
   "name": "python",
   "nbconvert_exporter": "python",
   "pygments_lexer": "ipython3",
   "version": "3.9.5"
  }
 },
 "nbformat": 4,
 "nbformat_minor": 2
}
