{
 "cells": [
  {
   "cell_type": "code",
   "execution_count": 1,
   "metadata": {},
   "outputs": [],
   "source": [
    "import numpy as np "
   ]
  },
  {
   "cell_type": "code",
   "execution_count": 2,
   "metadata": {},
   "outputs": [],
   "source": [
    "\n",
    "\n",
    "def J_R_x(graph_edges, tau, pi, priors):\n",
    "    # Create index arrays\n",
    "    n_nodes = graph_edges.shape[0]\n",
    "    \n",
    "    J_R_x = 0\n",
    "    \n",
    "    tau_log_priors = np.where(priors == 0, 0, tau * np.log(priors))\n",
    "    sum_tau_log_priors = np.sum(tau_log_priors, axis=(0, 1))\n",
    "    \n",
    "    J_R_x += sum_tau_log_priors\n",
    "    \n",
    "    exp_term = (pi ** graph_edges[:, :, np.newaxis, np.newaxis]) * ((1 - pi) ** (1 - graph_edges[:, :, np.newaxis, np.newaxis]))\n",
    "    exp_term = np.where(exp_term == 0, 0, np.log(exp_term)) \n",
    "    tau_replicated = np.repeat(tau[:, np.newaxis, :, np.newaxis], n_nodes, axis=1)\n",
    "    theta = tau_replicated * tau_replicated.transpose((1, 0, 3, 2))\n",
    "    tau_tau_log_b = theta * exp_term\n",
    "    for i in range(n_nodes):\n",
    "        tau_tau_log_b[i, i, :, :] = 0\n",
    "    sum_tau_tau_log_b = np.sum(tau_tau_log_b, axis=(0, 1, 2, 3))\n",
    "    \n",
    "    J_R_x += sum_tau_tau_log_b\n",
    "    \n",
    "    tau_log_tau = np.where(tau == 0, 0, tau * np.log(tau))\n",
    "    sum_tau_log_tau = np.sum(tau_log_tau, axis=(0,1))\n",
    "    \n",
    "    J_R_x += sum_tau_log_tau\n",
    "    \n",
    "    return J_R_x"
   ]
  },
  {
   "cell_type": "code",
   "execution_count": 3,
   "metadata": {},
   "outputs": [
    {
     "name": "stdout",
     "output_type": "stream",
     "text": [
      "0.0\n"
     ]
    }
   ],
   "source": [
    "nodes= 10\n",
    "clusters = 2\n",
    "g = np.ones((nodes, nodes))\n",
    "tau = np.ones((nodes, clusters))\n",
    "pi = np.ones((clusters, clusters))\n",
    "priors = np.ones((clusters))\n",
    "val = J_R_x(g, tau, pi, priors)\n",
    "\n",
    "print(val)\n"
   ]
  },
  {
   "cell_type": "code",
   "execution_count": null,
   "metadata": {},
   "outputs": [],
   "source": []
  },
  {
   "cell_type": "code",
   "execution_count": null,
   "metadata": {},
   "outputs": [],
   "source": []
  }
 ],
 "metadata": {
  "kernelspec": {
   "display_name": "Python 3",
   "language": "python",
   "name": "python3"
  },
  "language_info": {
   "codemirror_mode": {
    "name": "ipython",
    "version": 3
   },
   "file_extension": ".py",
   "mimetype": "text/x-python",
   "name": "python",
   "nbconvert_exporter": "python",
   "pygments_lexer": "ipython3",
   "version": "3.9.5"
  }
 },
 "nbformat": 4,
 "nbformat_minor": 2
}
